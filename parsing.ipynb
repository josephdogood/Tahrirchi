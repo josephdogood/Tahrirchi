{
 "cells": [
  {
   "cell_type": "code",
   "execution_count": 2,
   "metadata": {},
   "outputs": [],
   "source": [
    "from bs4 import BeautifulSoup\n",
    "import requests\n",
    "from datetime import datetime\n",
    "import csv\n",
    "import pandas as pd"
   ]
  },
  {
   "cell_type": "code",
   "execution_count": 3,
   "metadata": {},
   "outputs": [],
   "source": [
    "\n",
    "source_link = requests.get('https://kun.uz/uz/news/list')"
   ]
  },
  {
   "cell_type": "code",
   "execution_count": 28,
   "metadata": {},
   "outputs": [],
   "source": [
    "soup = BeautifulSoup(source_link.content, 'html.parser') #.title.text\n",
    "link = soup.find_all(class_='daily-block l-item')\n",
    "header = ['Title', 'Time', 'Link', 'Content']\n",
    "with open('news.csv', 'w') as f:\n",
    "    writer = csv.writer(f)\n",
    "    writer.writerow(header)\n",
    "    for i in range(1, 4):\n",
    "        time = datetime.now().strftime(\"%H:%M\")\n",
    "        n_link = 'https://kun.uz'+link[i].get('href')\n",
    "        news_link = requests.get(n_link)\n",
    "        soup_2 = BeautifulSoup(news_link.content, 'html.parser')\n",
    "        title = soup_2.find(class_='single-header__title').text\n",
    "        content = soup_2.find(class_='single-content').find_all('p')\n",
    "        content_2 = ''\n",
    "        for p in content:\n",
    "            content_2 = content_2 + p.text\n",
    "        writer.writerow([title, time, n_link, content_2])\n"
   ]
  },
  {
   "cell_type": "code",
   "execution_count": 29,
   "metadata": {},
   "outputs": [
    {
     "data": {
      "text/html": [
       "<div>\n",
       "<style scoped>\n",
       "    .dataframe tbody tr th:only-of-type {\n",
       "        vertical-align: middle;\n",
       "    }\n",
       "\n",
       "    .dataframe tbody tr th {\n",
       "        vertical-align: top;\n",
       "    }\n",
       "\n",
       "    .dataframe thead th {\n",
       "        text-align: right;\n",
       "    }\n",
       "</style>\n",
       "<table border=\"1\" class=\"dataframe\">\n",
       "  <thead>\n",
       "    <tr style=\"text-align: right;\">\n",
       "      <th></th>\n",
       "      <th>Title</th>\n",
       "      <th>Time</th>\n",
       "      <th>Link</th>\n",
       "      <th>Content</th>\n",
       "    </tr>\n",
       "  </thead>\n",
       "  <tbody>\n",
       "    <tr>\n",
       "      <th>0</th>\n",
       "      <td>Ulsan shahri ma’muriyati O‘zbekiston fuqarolar...</td>\n",
       "      <td>11:24</td>\n",
       "      <td>https://kun.uz/uz/news/2022/12/05/ulsan-shahri...</td>\n",
       "      <td>Amaliy tashrif bilan Janubiy Koreyada bo‘lgan ...</td>\n",
       "    </tr>\n",
       "    <tr>\n",
       "      <th>1</th>\n",
       "      <td>Toshkentda ob-havo sabab avtobuslar oraliq int...</td>\n",
       "      <td>11:24</td>\n",
       "      <td>https://kun.uz/uz/news/2022/12/05/toshkentda-o...</td>\n",
       "      <td>Toshkentda noqulay ob-havo sabab avtobuslar or...</td>\n",
       "    </tr>\n",
       "    <tr>\n",
       "      <th>2</th>\n",
       "      <td>YeXHT parlament assambleyasi 2023 yildagi kuzg...</td>\n",
       "      <td>11:24</td>\n",
       "      <td>https://kun.uz/uz/news/2022/12/05/yexht-parlam...</td>\n",
       "      <td>O‘zbekiston tashqi siyosat idorasi rahbari Mar...</td>\n",
       "    </tr>\n",
       "  </tbody>\n",
       "</table>\n",
       "</div>"
      ],
      "text/plain": [
       "                                               Title   Time  \\\n",
       "0  Ulsan shahri ma’muriyati O‘zbekiston fuqarolar...  11:24   \n",
       "1  Toshkentda ob-havo sabab avtobuslar oraliq int...  11:24   \n",
       "2  YeXHT parlament assambleyasi 2023 yildagi kuzg...  11:24   \n",
       "\n",
       "                                                Link  \\\n",
       "0  https://kun.uz/uz/news/2022/12/05/ulsan-shahri...   \n",
       "1  https://kun.uz/uz/news/2022/12/05/toshkentda-o...   \n",
       "2  https://kun.uz/uz/news/2022/12/05/yexht-parlam...   \n",
       "\n",
       "                                             Content  \n",
       "0  Amaliy tashrif bilan Janubiy Koreyada bo‘lgan ...  \n",
       "1  Toshkentda noqulay ob-havo sabab avtobuslar or...  \n",
       "2  O‘zbekiston tashqi siyosat idorasi rahbari Mar...  "
      ]
     },
     "execution_count": 29,
     "metadata": {},
     "output_type": "execute_result"
    }
   ],
   "source": [
    "df = pd.read_csv('news.csv',encoding='cp1252')\n",
    "df"
   ]
  },
  {
   "cell_type": "code",
   "execution_count": 32,
   "metadata": {},
   "outputs": [
    {
     "data": {
      "text/html": [
       "<div>\n",
       "<style scoped>\n",
       "    .dataframe tbody tr th:only-of-type {\n",
       "        vertical-align: middle;\n",
       "    }\n",
       "\n",
       "    .dataframe tbody tr th {\n",
       "        vertical-align: top;\n",
       "    }\n",
       "\n",
       "    .dataframe thead th {\n",
       "        text-align: right;\n",
       "    }\n",
       "</style>\n",
       "<table border=\"1\" class=\"dataframe\">\n",
       "  <thead>\n",
       "    <tr style=\"text-align: right;\">\n",
       "      <th></th>\n",
       "      <th>Title</th>\n",
       "      <th>Time</th>\n",
       "      <th>Link</th>\n",
       "      <th>Content</th>\n",
       "      <th>Word</th>\n",
       "    </tr>\n",
       "  </thead>\n",
       "  <tbody>\n",
       "    <tr>\n",
       "      <th>0</th>\n",
       "      <td>Ulsan shahri ma’muriyati O‘zbekiston fuqarolar...</td>\n",
       "      <td>11:24</td>\n",
       "      <td>https://kun.uz/uz/news/2022/12/05/ulsan-shahri...</td>\n",
       "      <td>Amaliy tashrif bilan Janubiy Koreyada bo‘lgan ...</td>\n",
       "      <td>59</td>\n",
       "    </tr>\n",
       "    <tr>\n",
       "      <th>1</th>\n",
       "      <td>Toshkentda ob-havo sabab avtobuslar oraliq int...</td>\n",
       "      <td>11:24</td>\n",
       "      <td>https://kun.uz/uz/news/2022/12/05/toshkentda-o...</td>\n",
       "      <td>Toshkentda noqulay ob-havo sabab avtobuslar or...</td>\n",
       "      <td>147</td>\n",
       "    </tr>\n",
       "    <tr>\n",
       "      <th>2</th>\n",
       "      <td>YeXHT parlament assambleyasi 2023 yildagi kuzg...</td>\n",
       "      <td>11:24</td>\n",
       "      <td>https://kun.uz/uz/news/2022/12/05/yexht-parlam...</td>\n",
       "      <td>O‘zbekiston tashqi siyosat idorasi rahbari Mar...</td>\n",
       "      <td>98</td>\n",
       "    </tr>\n",
       "  </tbody>\n",
       "</table>\n",
       "</div>"
      ],
      "text/plain": [
       "                                               Title   Time  \\\n",
       "0  Ulsan shahri ma’muriyati O‘zbekiston fuqarolar...  11:24   \n",
       "1  Toshkentda ob-havo sabab avtobuslar oraliq int...  11:24   \n",
       "2  YeXHT parlament assambleyasi 2023 yildagi kuzg...  11:24   \n",
       "\n",
       "                                                Link  \\\n",
       "0  https://kun.uz/uz/news/2022/12/05/ulsan-shahri...   \n",
       "1  https://kun.uz/uz/news/2022/12/05/toshkentda-o...   \n",
       "2  https://kun.uz/uz/news/2022/12/05/yexht-parlam...   \n",
       "\n",
       "                                             Content  Word  \n",
       "0  Amaliy tashrif bilan Janubiy Koreyada bo‘lgan ...    59  \n",
       "1  Toshkentda noqulay ob-havo sabab avtobuslar or...   147  \n",
       "2  O‘zbekiston tashqi siyosat idorasi rahbari Mar...    98  "
      ]
     },
     "execution_count": 32,
     "metadata": {},
     "output_type": "execute_result"
    }
   ],
   "source": [
    "word = []\n",
    "for i in df.index:\n",
    "    word.append(len(df['Content'][i].split(' ')))\n",
    "df['Word'] = word\n",
    "df"
   ]
  },
  {
   "cell_type": "code",
   "execution_count": 40,
   "metadata": {},
   "outputs": [
    {
     "data": {
      "text/plain": [
       "4"
      ]
     },
     "execution_count": 40,
     "metadata": {},
     "output_type": "execute_result"
    }
   ],
   "source": [
    "df[\"Content\"][1].count(\"havo\")"
   ]
  },
  {
   "cell_type": "code",
   "execution_count": null,
   "metadata": {},
   "outputs": [],
   "source": []
  }
 ],
 "metadata": {
  "kernelspec": {
   "display_name": "Python 3",
   "language": "python",
   "name": "python3"
  },
  "language_info": {
   "codemirror_mode": {
    "name": "ipython",
    "version": 3
   },
   "file_extension": ".py",
   "mimetype": "text/x-python",
   "name": "python",
   "nbconvert_exporter": "python",
   "pygments_lexer": "ipython3",
   "version": "3.8.3"
  }
 },
 "nbformat": 4,
 "nbformat_minor": 4
}
